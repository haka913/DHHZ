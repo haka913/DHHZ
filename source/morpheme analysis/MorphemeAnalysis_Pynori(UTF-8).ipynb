{
 "cells": [
  {
   "cell_type": "code",
   "execution_count": 1,
   "metadata": {},
   "outputs": [],
   "source": [
    "from pynori.korean_analyzer import KoreanAnalyzer"
   ]
  },
  {
   "cell_type": "code",
   "execution_count": 2,
   "metadata": {},
   "outputs": [],
   "source": [
    "nori = KoreanAnalyzer(decompound_mode='DISCARD', # DISCARD or MIXED or NONE\n",
    "                      infl_decompound_mode='DISCARD', # DISCARD or MIXED or NONE\n",
    "                      discard_punctuation=True,\n",
    "                      output_unknown_unigrams=False,\n",
    "                      pos_filter=False, stop_tags=['JKS', 'JKB', 'VV', 'EF'],\n",
    "                      synonym_filter=False, mode_synonym='NORM') # NORM or EXTENSION"
   ]
  },
  {
   "cell_type": "code",
   "execution_count": 3,
   "metadata": {},
   "outputs": [],
   "source": [
    "nori.set_option_filter(pos_filter=True, stop_tags=['NNB','NR','NP',\n",
    "                                                   'VX', 'VCP','VCN',\n",
    "                                                   'MM', \n",
    "                                                   'IC', \n",
    "                                                   'JKS', 'JKC', 'JKG', 'JKO', 'JKB', 'JKV','JKQ','JX','JC', \n",
    "                                                   'EP', 'EF', 'EC', 'ETN', 'ETM',\n",
    "                                                   'XPN', 'XSN', 'XSV', 'XSA',\n",
    "                                                   'XR',\n",
    "                                                   'SF', 'SP', 'SS', 'SE', 'SO', 'SW',\n",
    "                                                   'NF', 'NV', 'NA',\n",
    "                                                   'SL', 'SH', 'SN'])\n",
    "\n",
    "\n",
    "\n",
    "w = open(\"C:/Users/jg/Desktop/졸과 8.13/분석 모음/morp15.txt\", 'w', encoding=\"utf-8\")\n",
    "\n",
    "\n",
    "f=open(\"C:/Users/jg/Desktop/졸과 8.13/기사 병합/merge15.txt\", 'r', encoding=\"utf-8\")\n",
    "\n",
    "\n",
    "\n",
    "while True:\n",
    "    try:\n",
    "        line = f.readline()\n",
    "        if not line: break\n",
    "        \n",
    "        s = line.split('.')\n",
    "\n",
    "     \n",
    "        n = len(s)\n",
    "        #print(n)\n",
    "    \n",
    "\n",
    "        for i in range(0, n):\n",
    "            try:\n",
    "                morp = nori.do_analysis(s[i])\n",
    "                #print(morp['termAtt'])\n",
    "        \n",
    "                m = morp['termAtt']\n",
    "    \n",
    "                l=len(m)\n",
    "                #print(l)\n",
    "        \n",
    "                for j in range(0, l):\n",
    "                    try:\n",
    "                        w.write(m[j])\n",
    "                        w.write(\" \")\n",
    "                    \n",
    "                    except UnicodeEncodeError:\n",
    "                        pass\n",
    "        \n",
    "                w.write(\"\\n\")\n",
    "            \n",
    "            except AssertionError:\n",
    "                pass\n",
    "    \n",
    "    except UnicodeDecodeError:\n",
    "        pass\n",
    "    \n",
    "    \n",
    "f.close()\n",
    "w.close()"
   ]
  },
  {
   "cell_type": "code",
   "execution_count": null,
   "metadata": {},
   "outputs": [],
   "source": []
  }
 ],
 "metadata": {
  "kernelspec": {
   "display_name": "Python 3",
   "language": "python",
   "name": "python3"
  },
  "language_info": {
   "codemirror_mode": {
    "name": "ipython",
    "version": 3
   },
   "file_extension": ".py",
   "mimetype": "text/x-python",
   "name": "python",
   "nbconvert_exporter": "python",
   "pygments_lexer": "ipython3",
   "version": "3.7.6"
  }
 },
 "nbformat": 4,
 "nbformat_minor": 4
}
