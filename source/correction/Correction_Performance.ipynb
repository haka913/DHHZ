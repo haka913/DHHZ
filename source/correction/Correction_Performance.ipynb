{
 "cells": [
  {
   "cell_type": "code",
   "execution_count": 2,
   "metadata": {},
   "outputs": [],
   "source": [
    "from gensim.models import FastText # gensim fasttext"
   ]
  },
  {
   "cell_type": "code",
   "execution_count": 5,
   "metadata": {
    "scrolled": true
   },
   "outputs": [
    {
     "name": "stdout",
     "output_type": "stream",
     "text": [
      "94.02\n",
      "87.66\n",
      "90.73\n"
     ]
    }
   ],
   "source": [
    "# 임베딩 모델 \n",
    "#model = FastText.load('C:/Users/Master/Desktop/Embedding_Model/ft_model64_2') \n",
    "model = FastText.load('C:/Users/Master/Desktop/신문기사_update/gan2vec_model_0') \n",
    "#model = FastText.load('E:/GanVec 모음/주의_주위/gan2vec_model_2000')  \n",
    "#model = FastText.load('E:/세종말뭉치_update_padding/gan2vec_model_0') \n",
    "#model = FastText.load('E:/세종말뭉치(length7)/gan2vec_model_3500') \n",
    "#model = FastText.load('E:/세종말뭉치(length10)/gan2vec_model_4000') \n",
    "\n",
    "target_word = \"주위\" # 목표로 하는 단어 \n",
    "\n",
    "# 교정해줄 정제 파일\n",
    "f = open(\"C:/Users/Master/Desktop/졸과 철자 교정/corpus/교정 실험/주위_세종\", 'r') \n",
    "#f = open(\"C:/Users/Master/Desktop/corpus5/기분_기본.txt\", 'r', encoding=\"utf-8\") \n",
    "\n",
    "\n",
    "cnt = 0 # TP + FN count 즉, TP, FN 합한 모든 수 => target의 총합계 \n",
    "correct_cnt = 0 # TP\n",
    "correct_limit = 0 # FP\n",
    "\n",
    "\n",
    "while True:\n",
    "    line = f.readline() \n",
    "    if not line: break\n",
    "\n",
    "    split_list = line.split(' ') # 각 단어별로 나누어서 리스트 만듬 \n",
    "    sum1 = 0 # 원글의 similarity\n",
    "    sum2 = 0 # 변환글의 similarity\n",
    "    \n",
    "    for i in split_list:\n",
    "        if target_word in i: # target_word가 있으면 \n",
    "            cnt += 1 # TP + FN => 실제 True인 것을 True or False로 예측한 모든 수 증가 \n",
    "            \n",
    "            cut_num = split_list.index(i) # 그 target의 index를 저장 \n",
    "\n",
    "            temp_str = split_list[cut_num].replace(\"위\", \"의\") # 그 target의 철자를 수정함 \n",
    "            \n",
    "            \n",
    "            # 주변 문맥 왼쪽 오른쪽 5씩 본다 \n",
    "            if (cut_num - 5) > 0: # size 5\n",
    "                sum1 += model.wv.similarity(split_list[cut_num], split_list[cut_num - 5])\n",
    "                sum2 += model.wv.similarity(temp_str, split_list[cut_num - 5])\n",
    "            if (cut_num - 4) > 0: # size 4\n",
    "                sum1 += model.wv.similarity(split_list[cut_num], split_list[cut_num - 4])\n",
    "                sum2 += model.wv.similarity(temp_str, split_list[cut_num - 4])\n",
    "            if (cut_num - 3) > 0: # size 3\n",
    "                sum1 += model.wv.similarity(split_list[cut_num], split_list[cut_num - 3])\n",
    "                sum2 += model.wv.similarity(temp_str, split_list[cut_num - 3])\n",
    "            if (cut_num - 2) > 0: # size 2\n",
    "                sum1 += model.wv.similarity(split_list[cut_num], split_list[cut_num - 2])\n",
    "                sum2 += model.wv.similarity(temp_str, split_list[cut_num - 2])\n",
    "            if (cut_num - 1) > 0: # size 1\n",
    "                sum1 += model.wv.similarity(split_list[cut_num], split_list[cut_num - 1])\n",
    "                sum2 += model.wv.similarity(temp_str, split_list[cut_num - 1])\n",
    "\n",
    "                             \n",
    "            if (cut_num + 1) < len(split_list): # size 1\n",
    "                sum1 += model.wv.similarity(split_list[cut_num], split_list[cut_num + 1])\n",
    "                sum2 += model.wv.similarity(temp_str, split_list[cut_num + 1])\n",
    "            if (cut_num + 2) < len(split_list): # size 2\n",
    "                sum1 += model.wv.similarity(split_list[cut_num], split_list[cut_num + 2])\n",
    "                sum2 += model.wv.similarity(temp_str, split_list[cut_num + 2])\n",
    "            if (cut_num + 3) < len(split_list): # size 3\n",
    "                sum1 += model.wv.similarity(split_list[cut_num], split_list[cut_num + 3])\n",
    "                sum2 += model.wv.similarity(temp_str, split_list[cut_num + 3])\n",
    "            if (cut_num + 4) < len(split_list): # size 4\n",
    "                sum1 += model.wv.similarity(split_list[cut_num], split_list[cut_num + 4])\n",
    "                sum2 += model.wv.similarity(temp_str, split_list[cut_num + 4])\n",
    "            if (cut_num + 5) < len(split_list): # size 5\n",
    "                sum1 += model.wv.similarity(split_list[cut_num], split_list[cut_num + 5])\n",
    "                sum2 += model.wv.similarity(temp_str, split_list[cut_num + 5])\n",
    "\n",
    "                \n",
    "            #에러 단어 sum1 원글 / sum2 변환글    \n",
    "            if cnt % 2 == 0: # 짝수\n",
    "                if sum1 > sum2: # 정답\n",
    "                    correct_cnt += 1\n",
    "                else: # 오답\n",
    "                    correct_limit += 1\n",
    "                    \n",
    "            elif cnt % 2 == 1: # 홀수\n",
    "                if sum1 > sum2: # 정답\n",
    "                    correct_cnt += 1\n",
    "                \n",
    "\n",
    "                    \n",
    "                    \n",
    "                    \n",
    "P = correct_cnt/(correct_cnt+correct_limit) # Precision = TP / TP + FP\n",
    "R = correct_cnt/cnt # Recall = TP / TP + FN\n",
    "F1 = 2 * (P * R) / (P + R)                    \n",
    "                    \n",
    "print(round(P*100, 2))\n",
    "print(round(R*100, 2))\n",
    "print(round(F1*100, 2))\n",
    "\n",
    "\n",
    "f.close()"
   ]
  },
  {
   "cell_type": "code",
   "execution_count": null,
   "metadata": {},
   "outputs": [],
   "source": []
  }
 ],
 "metadata": {
  "kernelspec": {
   "display_name": "Python 3",
   "language": "python",
   "name": "python3"
  },
  "language_info": {
   "codemirror_mode": {
    "name": "ipython",
    "version": 3
   },
   "file_extension": ".py",
   "mimetype": "text/x-python",
   "name": "python",
   "nbconvert_exporter": "python",
   "pygments_lexer": "ipython3",
   "version": "3.7.6"
  }
 },
 "nbformat": 4,
 "nbformat_minor": 4
}
